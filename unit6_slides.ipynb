{
 "cells": [
  {
   "cell_type": "markdown",
   "id": "1d43ecc6",
   "metadata": {},
   "source": [
    "# Advanced topics\n",
    "## **Stefan Sobernig**; **Axel Polleres**\n",
    "## April 8th, 2025"
   ]
  },
  {
   "cell_type": "markdown",
   "id": "3b0ac644",
   "metadata": {
    "slideshow": {
     "slide_type": "slide"
    }
   },
   "source": [
    "### Unit 6: Advanced topics\n",
    "<div id=\"unit6\"></div>\n",
    "\n",
    "* Basic analysis of algorithms: The Big O\n",
    "* Visualizations for Data Science: \n",
    "  * Picking the \"right\" visualization\n",
    "  * Tooling primer: matplotlib, pandas\n",
    "\n",
    "* (Library support):\n",
    "  * High-level libraries: pandas (cont'd)\n",
    "  * Low-level libraries: numpy, scipy\n",
    "  * Plotting (cont'd): seaborn, bokeh\n",
    "  * Parsing"
   ]
  },
  {
   "cell_type": "markdown",
   "id": "20bf0d93",
   "metadata": {},
   "source": [
    "**Readings:**\n",
    "* Grus, J. (2015) Data Science from Scratch, O'Reilley, **Chapter 3** ([available via the WU library, EBSCO](http://search.ebscohost.com/login.aspx?direct=true&db=nlebk&AN=979529&site=ehost-live))"
   ]
  },
  {
   "cell_type": "markdown",
   "id": "21fabe3f",
   "metadata": {
    "slideshow": {
     "slide_type": "slide"
    }
   },
   "source": [
    "### Analysis of algorithms (1)"
   ]
  },
  {
   "cell_type": "markdown",
   "id": "1ec56fe2",
   "metadata": {
    "slideshow": {
     "slide_type": "fragment"
    }
   },
   "source": [
    "* We encountered many different computational procedures (algorithms) for different purposes in data processing throughout Units 1 to 5, e.g.:\n",
    "  * Data filtering\n",
    "  * Data sorting\n",
    "  * Data sampling\n",
    "  * Deduplication (blocking, windowing)\n",
    "\n",
    "* Why do we want to describe the complexity of these procedures (or, the underlying algorithms)? \n",
    "* How can we describe the their complexity: space vs. time complexity?"
   ]
  },
  {
   "cell_type": "markdown",
   "id": "9563c4a7",
   "metadata": {
    "slideshow": {
     "slide_type": "slide"
    }
   },
   "source": [
    "### Analysis of algorithms (2)"
   ]
  },
  {
   "cell_type": "markdown",
   "id": "9b544ef3",
   "metadata": {
    "slideshow": {
     "slide_type": "fragment"
    }
   },
   "source": [
    "* Studying the complexity of a computation (procedure, algorithm) involves quantifying and describing ...\n",
    "  * ... the difficulty of solving a computational problem (e.g., sorting)\n",
    "  * ... in terms of the required computational resources:\n",
    "    * running time of a computation\n",
    "    * memory (\"space\") consumed by a computation\n",
    "\n",
    "  * Note: There can be a fundamental trade-off between running time and memory consumption.\n",
    "* Our take: *Time complexity* of basic operations in (Python) data processing."
   ]
  },
  {
   "cell_type": "markdown",
   "id": "5012f2e6",
   "metadata": {
    "slideshow": {
     "slide_type": "slide"
    }
   },
   "source": [
    "### Analysis of algorithms (3)"
   ]
  },
  {
   "cell_type": "markdown",
   "id": "12dcbfed",
   "metadata": {
    "slideshow": {
     "slide_type": "fragment"
    }
   },
   "source": [
    "* How fast does the (running/ execution) time required by an operation grow as the size of the problem increases in the **worst case**?\n",
    "* \"Size of a problem\" ($n$), eg.: number of elements in a list or array,\n",
    "   number of rows in a table or DataFrame.\n",
    "* \"time required\" ($f$): a function of N, i.e., $f(n)$\n",
    "* When this function $f(n)$ grows rapidly, an operation (algorithm) will become unusable the larger $n$.\n",
    "* When this function $f(n)$ grows \"slowly, an operation (algorithm) will remain usable even at larger $n$.\n",
    "\n",
    "*Question.* \n",
    "What would you consider \"rapidly\", \"slowly\"?"
   ]
  },
  {
   "cell_type": "markdown",
   "id": "90799341",
   "metadata": {
    "slideshow": {
     "slide_type": "slide"
    }
   },
   "source": [
    "### Analysis of algorithms (4): Types of growth"
   ]
  },
  {
   "cell_type": "markdown",
   "id": "5e12d8ed",
   "metadata": {
    "slideshow": {
     "slide_type": "fragment"
    }
   },
   "source": [
    "Commonly found types of time growth for some input n:\n",
    "  * $f(n) = 1$: Time required is **constant**, independent of $n$ (e.g., hash searching).\n",
    "  * $f(n) = log(n)$: increasing n by a factor $c$, e.g., doubling $n$\n",
    "\n",
    "  increases the required time by a constant amount, i.e. **logarithmic**\n",
    "  (example: binary search).\n",
    "  * $f(n) = n$: Required time grows **linearly** with problem size (linear search in $n$-element list)\n",
    "  * $f(n) = n * log(n)$: Doubling $n$ increases the required time by more than a double (merge sort, Python's timsort).\n",
    "  * $f(n) = n^2$, $f(n) = n^3$: **quadratic**, **cubic**, etc. Doubling $n$ results in a four-/ eight-fold increase in the required time (simple sorting, matrix multiplication)\n",
    "  * $f(n) = c^n$: Doubling the problem size **squares** the time required, a.k.a. **exponential** growth)."
   ]
  },
  {
   "cell_type": "markdown",
   "id": "f2cc53e0",
   "metadata": {
    "slideshow": {
     "slide_type": "slide"
    }
   },
   "source": [
    "### Analysis of algorithms (5): Big O(rder) notation"
   ]
  },
  {
   "cell_type": "markdown",
   "id": "2b936a97",
   "metadata": {
    "slideshow": {
     "slide_type": "fragment"
    }
   },
   "source": [
    "* Often, when planning data-processing steps, we want to compare two or available operations (e.g., search strategies).\n",
    "* Objective: Comparison based on their relative time complexities or growth rates: $f(n)$ vs. $g(n)$.\n",
    "* \"Strictness\" of comparison, e.g., \"equal or less than\", \"same as\".\n",
    "* Big O(rder): $g \\in O(f)$ iff $g(x)$ is smaller than some constant multiple of $f(x)$ (i.e., $f$ is of smaller or equal order than $g$).\n",
    "* Example: $n^2$ vs. $(n^2 + 2n + 3)$ vs. $2n$"
   ]
  },
  {
   "cell_type": "markdown",
   "id": "1eac7a8d",
   "metadata": {
    "slideshow": {
     "slide_type": "slide"
    }
   },
   "source": [
    "### Analysis of algorithms (6): Big O(rder) notation"
   ]
  },
  {
   "cell_type": "markdown",
   "id": "8ac1f0ae",
   "metadata": {
    "slideshow": {
     "slide_type": "fragment"
    }
   },
   "source": [
    "![](figures/growth.png)"
   ]
  },
  {
   "cell_type": "markdown",
   "id": "c51d9a36",
   "metadata": {
    "slideshow": {
     "slide_type": "slide"
    }
   },
   "source": [
    "### Analysis of algorithms (7): Urban Audit example"
   ]
  },
  {
   "cell_type": "markdown",
   "id": "785747ec",
   "metadata": {
    "slideshow": {
     "slide_type": "fragment"
    }
   },
   "source": [
    "*Question.* \n",
    " How could we sort it by a different column?\n",
    " e.g., how could we sort countries by population?"
   ]
  },
  {
   "cell_type": "markdown",
   "id": "2d51f946",
   "metadata": {},
   "source": [
    "Let's look at the excerpts from the following [notebook](bsearch.ipynb)"
   ]
  },
  {
   "cell_type": "markdown",
   "id": "bcf8d84d",
   "metadata": {},
   "source": [
    "~~~\n",
    "haystack = [('BE', 10839905),\n",
    " ('BG', 7563710),\n",
    " ('CZ', 10532770),\n",
    " ('DE', 81802257),\n",
    " ('EE', 1365275),\n",
    " ('ES', 47021031),\n",
    " ('FR', 64611814),\n",
    " ('IT', 60340328),\n",
    " ('CY', 819100),\n",
    " ('HU', 10014324),\n",
    " ('NL', 16574989),\n",
    " ('PL', 38529866),\n",
    " ('PT', 10573479),\n",
    " ('RO', 22480599),\n",
    " ('SK', 5435273),\n",
    " ('FI', 5351427),\n",
    " ('SE', 9415570),\n",
    " ('NO', 4858199),\n",
    " ('CH', 7877571)]\n",
    "haystack.sort() # by country code\n",
    "haystack.sort(key=lambda x:x[1]) # by population count\n",
    "~~~"
   ]
  },
  {
   "cell_type": "markdown",
   "id": "ecdf1e6b",
   "metadata": {
    "slideshow": {
     "slide_type": "slide"
    }
   },
   "source": [
    "### Analysis of algorithms (8): Urban Audit (cont'd)"
   ]
  },
  {
   "cell_type": "markdown",
   "id": "4f5e1d57",
   "metadata": {
    "slideshow": {
     "slide_type": "fragment"
    }
   },
   "source": [
    "Note: if you know that a file is sorted, then **searching** in that file becomes easier/cheaper!\n",
    "\n",
    "*Question.* \n",
    "* \"Find me a country with a population above 5000000 people?\""
   ]
  },
  {
   "cell_type": "markdown",
   "id": "33dd2ffd",
   "metadata": {
    "slideshow": {
     "slide_type": "fragment"
    }
   },
   "source": [
    "<!-- !bpop -->\n",
    " * What is the growth rate of the quickest searching algorithm you can think of?\n",
    " * What if you have the cities and populations already in a sorted list?\n",
    "\n",
    "<!-- !epop -->"
   ]
  },
  {
   "cell_type": "markdown",
   "id": "8f6c5e3e",
   "metadata": {
    "slideshow": {
     "slide_type": "fragment"
    }
   },
   "source": [
    "<!-- !bpop -->\n",
    "* Answer: $O(\\log{}n)$\n",
    "* Why?"
   ]
  },
  {
   "cell_type": "markdown",
   "id": "d9518403",
   "metadata": {
    "slideshow": {
     "slide_type": "fragment"
    }
   },
   "source": [
    "* Answer: Binary Search!\n",
    "\n",
    "<!-- !epop -->\n",
    "\n",
    "<!-- !bpop -->\n",
    " Bottomline: (pre-)sorting can be costly, but might speed up other\n",
    "operations... another example: grouping!\n",
    "<!-- !epop -->"
   ]
  },
  {
   "cell_type": "markdown",
   "id": "04f5ac1a",
   "metadata": {
    "slideshow": {
     "slide_type": "slide"
    }
   },
   "source": [
    "### Analysis of algorithms (9): Urban Audit example"
   ]
  },
  {
   "cell_type": "markdown",
   "id": "09b2cef2",
   "metadata": {},
   "source": [
    "~~~{.Python}\n",
    "# Search for first entry bigger than number in a sorted\n",
    "# list of lists of length 2:\n",
    "def binary_search(number, array, lo, hi):\n",
    "\n",
    "    if hi < lo: return array[lo]       # no more numbers\n",
    "    mid = (lo + hi) // 2               # midpoint in array\n",
    "    if number == array[mid][0]:\n",
    "        return array[mid]              # number found here\n",
    "    elif number < array[mid][0]:\n",
    "        # try left of here\n",
    "        return binary_search(number, array, lo, mid - 1)\n",
    "    else:\n",
    "        # try above here\n",
    "        return binary_search(number, array, mid + 1, hi)\n",
    "\n",
    "# Sample call: Find me a country with a pop. > 5m people?\n",
    "binary_search(5000000, haystack, 0, len(haystack))\n",
    "~~~"
   ]
  },
  {
   "cell_type": "markdown",
   "id": "5664182c",
   "metadata": {
    "slideshow": {
     "slide_type": "slide"
    }
   },
   "source": [
    "### Analysis of algorithms (10): Outlook"
   ]
  },
  {
   "cell_type": "markdown",
   "id": "56acd0c7",
   "metadata": {
    "slideshow": {
     "slide_type": "fragment"
    }
   },
   "source": [
    "* Python's `sort` applies **Timsort**: $O(n\\log{}n)$ (worst case).\n",
    "* Custom algorithmic recipes for Python 3 (incl. sorting algorithms)\n",
    "* Sampling: probability-based sampling (pandas)\n",
    "* Deduplication: total complexity of naive algorithm: $O(n^2)$ (pairwise comparison). Possible improvements:\n",
    "  * Blocking: $O(n(n/b + \\log{}n))$ with block size $b < n$ \n",
    "  * Windowing: $O(n(w + \\log{}n))$ with window size $w < n$\n",
    "  * Sorting+Scan: $O(n * \\log{}n + n)$"
   ]
  },
  {
   "cell_type": "markdown",
   "id": "22505b80",
   "metadata": {
    "slideshow": {
     "slide_type": "slide"
    }
   },
   "source": [
    "### Visualization (1)"
   ]
  },
  {
   "cell_type": "markdown",
   "id": "98a47ac2",
   "metadata": {
    "slideshow": {
     "slide_type": "fragment"
    }
   },
   "source": [
    "* Visualizations \n",
    "  * can support a number of data-processing activities (before analysis!);\n",
    "  * can be used to deliver analysis results;\n",
    "\n",
    "* See Chapter 3 of \"Data Science from Scratch\":\n",
    "  * matplotlib\n",
    "  * pandas wrapper around matplotlib\n",
    "  * Notebook: pandas-intro.ipynb\n",
    "\n",
    "* Corresponding code examples:\n",
    "   * matplotlib: [GitHub](https://github.com/joelgrus/data-science-from-scratch/blob/master/first-edition/code-python3/visualizing_data.py).\n",
    "   * pandas: \"Visualization tutorial\":\"\"\n",
    "\n",
    "* Advanced use of visualizations, such as graphical inference, beyond the scope of this course."
   ]
  },
  {
   "cell_type": "markdown",
   "id": "f18c955b",
   "metadata": {
    "slideshow": {
     "slide_type": "slide"
    }
   },
   "source": [
    "### Visualization (2)"
   ]
  },
  {
   "cell_type": "markdown",
   "id": "6145bd46",
   "metadata": {
    "slideshow": {
     "slide_type": "fragment"
    }
   },
   "source": [
    "* Tasks supported by visualisations:\n",
    "  * Anomaly detection: data outliers;\n",
    "  * Grouping: Forming and characterising aggregates of similar data points;\n",
    "  * Finding association (correlation) between pairs of variables;\n",
    "  * Computing derivatives (e.g., sums) of data points;\n",
    "  * Finding extremes, ranges, and orders (rankings) in data points;\n",
    "  * Filtering data points (e.g., for ranges);\n",
    "  * Retrieval of selected data points;\n",
    "  * (Describing data distributions;)"
   ]
  },
  {
   "cell_type": "markdown",
   "id": "bc66aebc",
   "metadata": {
    "slideshow": {
     "slide_type": "slide"
    }
   },
   "source": [
    "### Visualization (3)"
   ]
  },
  {
   "cell_type": "markdown",
   "id": "3f1a7b3c",
   "metadata": {
    "slideshow": {
     "slide_type": "fragment"
    }
   },
   "source": [
    "* Which visualization type is most effective for a given task?\n",
    "  * Accuracy\n",
    "  * Performance time\n",
    "  * Personal preferences\n",
    "\n",
    "* No One Size Fits All!"
   ]
  },
  {
   "cell_type": "markdown",
   "id": "9e6834fc",
   "metadata": {
    "slideshow": {
     "slide_type": "slide"
    }
   },
   "source": [
    "### Visualization (4a): Scatterplot"
   ]
  },
  {
   "cell_type": "markdown",
   "id": "53aee77e",
   "metadata": {
    "slideshow": {
     "slide_type": "fragment"
    }
   },
   "source": [
    "<!-- <img src=\"data/scatterplot.png\" width=\"75%\"> -->\n",
    "![](data/scatterplot.png)"
   ]
  },
  {
   "cell_type": "markdown",
   "id": "50653161",
   "metadata": {
    "slideshow": {
     "slide_type": "slide"
    }
   },
   "source": [
    "### Visualization (4b): Scatterplot"
   ]
  },
  {
   "cell_type": "markdown",
   "id": "553c8feb",
   "metadata": {
    "slideshow": {
     "slide_type": "fragment"
    }
   },
   "source": [
    "<!-- <img src=\"data/scatterplot-ua.png\" width=\"75%\"> -->\n",
    "![](data/scatterplot-ua.png)"
   ]
  },
  {
   "cell_type": "markdown",
   "id": "a22072b0",
   "metadata": {
    "slideshow": {
     "slide_type": "slide"
    }
   },
   "source": [
    "### Visualization (5a): Lineplot"
   ]
  },
  {
   "cell_type": "markdown",
   "id": "a9434811",
   "metadata": {
    "slideshow": {
     "slide_type": "fragment"
    }
   },
   "source": [
    "<!-- <img src=\"data/lineplot.png\" width=\"75%\"> -->\n",
    "![](data/lineplot.png)"
   ]
  },
  {
   "cell_type": "markdown",
   "id": "2412dea4",
   "metadata": {
    "slideshow": {
     "slide_type": "slide"
    }
   },
   "source": [
    "### Visualization (5b): Lineplot"
   ]
  },
  {
   "cell_type": "markdown",
   "id": "ec4a99e2",
   "metadata": {
    "slideshow": {
     "slide_type": "fragment"
    }
   },
   "source": [
    "<!-- <img src=\"data/lineplot-ua.png\" width=\"75%\"> -->\n",
    "![](data/lineplot-ua.png)"
   ]
  },
  {
   "cell_type": "markdown",
   "id": "18caa7b7",
   "metadata": {
    "slideshow": {
     "slide_type": "slide"
    }
   },
   "source": [
    "### Visualization (6a): Barplot"
   ]
  },
  {
   "cell_type": "markdown",
   "id": "fb545637",
   "metadata": {
    "slideshow": {
     "slide_type": "fragment"
    }
   },
   "source": [
    "<!-- <img src=\"data/barplot.png\" width=\"75%\"> -->\n",
    "![](data/barplot.png)"
   ]
  },
  {
   "cell_type": "markdown",
   "id": "621edb60",
   "metadata": {
    "slideshow": {
     "slide_type": "slide"
    }
   },
   "source": [
    "### Visualization (6b): Barplot"
   ]
  },
  {
   "cell_type": "markdown",
   "id": "bd58fa7d",
   "metadata": {
    "slideshow": {
     "slide_type": "fragment"
    }
   },
   "source": [
    "<!-- <img src=\"data/barplot-ua.png\" width=\"75%\"> -->\n",
    "![](data/barplot-ua.png)"
   ]
  },
  {
   "cell_type": "markdown",
   "id": "8c3fa18d",
   "metadata": {
    "slideshow": {
     "slide_type": "slide"
    }
   },
   "source": [
    "### Visualization (7): Boxplot"
   ]
  },
  {
   "cell_type": "markdown",
   "id": "1922bd8e",
   "metadata": {
    "slideshow": {
     "slide_type": "fragment"
    }
   },
   "source": [
    "<!-- <img src=\"data/boxplot-ua.png\" width=\"75%\"> -->\n",
    "![](data/boxplot-ua.png)"
   ]
  },
  {
   "cell_type": "markdown",
   "id": "52bfc3b9",
   "metadata": {
    "slideshow": {
     "slide_type": "slide"
    }
   },
   "source": [
    "### Visualization (8): Task-based effectiveness"
   ]
  },
  {
   "cell_type": "markdown",
   "id": "1034de21",
   "metadata": {
    "slideshow": {
     "slide_type": "fragment"
    }
   },
   "source": [
    "<!-- <img src=\"figures/viz.png\" width=\"75%\"> -->\n",
    "![](figures/viz.png)"
   ]
  },
  {
   "cell_type": "markdown",
   "id": "4b556d2f",
   "metadata": {
    "slideshow": {
     "slide_type": "slide"
    }
   },
   "source": [
    "### Visualization (9)"
   ]
  },
  {
   "cell_type": "markdown",
   "id": "86b8c5aa",
   "metadata": {
    "slideshow": {
     "slide_type": "fragment"
    }
   },
   "source": [
    "* Dos:\n",
    "  * Finding groups: Use bar charts (preference bias towards pie charts!)\n",
    "  * Finding associations and trends: Use line plots and scatterplots (preference bias towards line plots!)\n",
    "  * Finding anomalies: Use scatterplots"
   ]
  },
  {
   "cell_type": "markdown",
   "id": "1377c1f5",
   "metadata": {
    "slideshow": {
     "slide_type": "fragment"
    }
   },
   "source": [
    "* Donts:\n",
    "  * Finding groups: Avoid line charts;\n",
    "  * Compute derivatives: Avoid line charts;\n",
    "  * Finding associations and trends: Avoid tables and pie charts;"
   ]
  },
  {
   "cell_type": "markdown",
   "id": "dc760ede",
   "metadata": {
    "slideshow": {
     "slide_type": "slide"
    }
   },
   "source": [
    "### High-level libraries"
   ]
  },
  {
   "cell_type": "markdown",
   "id": "293ed7c5",
   "metadata": {
    "slideshow": {
     "slide_type": "fragment"
    }
   },
   "source": [
    "* [Agate](https://agate.readthedocs.io/en/1.7.1/about.html): agate is a Python data analysis library that is optimized **for humans instead of machines**. It is an alternative to numpy and pandas that solves real-world problems with readable code.\n",
    "* [Pandas](http://pandas.pydata.org): pandas is an open source, BSD-licensed library providing high-performance, easy-to-use data structures and data analysis tools for the Python programming language."
   ]
  },
  {
   "cell_type": "markdown",
   "id": "c3962eca",
   "metadata": {
    "slideshow": {
     "slide_type": "slide"
    }
   },
   "source": [
    "### Pandas"
   ]
  },
  {
   "cell_type": "markdown",
   "id": "c7410996",
   "metadata": {
    "slideshow": {
     "slide_type": "fragment"
    }
   },
   "source": [
    "~~~{.Python}\n",
    "import pandas as pd\n",
    "~~~\n",
    "\n",
    "contains high-level data structures and tools designed to make data analysis fast and easy. Pandas are built on top of NumPy, and makes it easy to use in NumPy-centric applications.\n",
    "\n",
    "Pandas is well suited for many different kinds of data:\n",
    "\n",
    "* Tabular data with heterogeneously-typed columns\n",
    "* Ordered and unordered (not necessarily fixed-frequency) time series data.\n",
    "* Arbitrary matrix data (homogeneously typed or heterogeneous) with row and column labels\n",
    "* Any other form of observational / statistical data sets. The data actually need not be labeled at all to be placed into a pandas data structure"
   ]
  },
  {
   "cell_type": "markdown",
   "id": "452a2b69",
   "metadata": {
    "slideshow": {
     "slide_type": "slide"
    }
   },
   "source": [
    "### Pandas features  (1/2)"
   ]
  },
  {
   "cell_type": "markdown",
   "id": "570fe94b",
   "metadata": {
    "slideshow": {
     "slide_type": "fragment"
    }
   },
   "source": [
    "Here are just a few of the things that pandas does well:\n",
    "\n",
    "* Handling of **missing data**\n",
    "* **Adding and deleting** columns_ on the fly\n",
    "* **data alignment**: objects can be explicitly aligned to a set of labels/columns\n",
    "* **Group by functionality**  and apply split-apply-combine operations on data sets to aggregate and transform data\n",
    "* **label-based slicing**, no need for indices\n",
    "* **Merging and joining**"
   ]
  },
  {
   "cell_type": "markdown",
   "id": "2c8cb222",
   "metadata": {
    "slideshow": {
     "slide_type": "slide"
    }
   },
   "source": [
    "### Pandas features  (2/2)"
   ]
  },
  {
   "cell_type": "markdown",
   "id": "37dd9985",
   "metadata": {
    "slideshow": {
     "slide_type": "fragment"
    }
   },
   "source": [
    "* **Reshaping**\n",
    "* Hierarchical labels\n",
    "* Loading data from flat files (CSV and delimited), Excel files, databases, and saving / loading data from the ultrafast HDF5 format\n",
    "* **Time series-specific functionality**: date range generation and frequency conversion, moving window statistics, moving window linear regressions, date shifting and lagging, etc.\n",
    "* **plotting support**. e.g. see the [official tutorial](http://pandas.pydata.org/pandas-docs/stable/visualization.html)"
   ]
  },
  {
   "cell_type": "markdown",
   "id": "f26d80e6",
   "metadata": {
    "slideshow": {
     "slide_type": "slide"
    }
   },
   "source": [
    "### Pandas: Some more words"
   ]
  },
  {
   "cell_type": "markdown",
   "id": "4e0dbf34",
   "metadata": {
    "slideshow": {
     "slide_type": "fragment"
    }
   },
   "source": [
    "It takes a while to get used to pandas. The documentation is  exhaustive and there exists hundreds of tutorials and use cases\n",
    "\n",
    "* [Pandas Cookbooks](http://pandas.pydata.org/pandas-docs/stable/tutorials.html)\n",
    "* [Datacamp tutorial](https://www.datacamp.com/community/tutorials/pandas-tutorial-dataframe-python#gs.UT5Xh6E)\n",
    "* [Dataquest.io tutorial](https://www.dataquest.io/blog/pandas-python-tutorial/)"
   ]
  },
  {
   "cell_type": "markdown",
   "id": "d2ee1ece",
   "metadata": {
    "slideshow": {
     "slide_type": "slide"
    }
   },
   "source": [
    "### Some hands on"
   ]
  },
  {
   "cell_type": "markdown",
   "id": "fc7b6310",
   "metadata": {
    "slideshow": {
     "slide_type": "fragment"
    }
   },
   "source": [
    "Checkout the notebook **pandas.ipynb**"
   ]
  },
  {
   "cell_type": "markdown",
   "id": "162376d0",
   "metadata": {
    "slideshow": {
     "slide_type": "slide"
    }
   },
   "source": [
    "### Low-level libraries"
   ]
  },
  {
   "cell_type": "markdown",
   "id": "335c70f9",
   "metadata": {
    "slideshow": {
     "slide_type": "fragment"
    }
   },
   "source": [
    "* [Chardet](http://chardet.readthedocs.io/en/latest/): Character encoding auto-detection in Python. As smart as your browser. Open source.\n",
    "* [dateutils](https://dateutil.readthedocs.io/en/stable/): The dateutil module provides powerful extensions to the standard datetime module, available in Python.\n",
    "* [Csvkit](https://csvkit.readthedocs.io/en/latest/): csvkit is a suite of command-line tools for converting to and working with CSV, the king of tabular file formats\n",
    "* [Numpy](http://www.numpy.org) the fundamental package for scientific computing with Python\n",
    "* [SciPy](https://docs.scipy.org/doc/scipy/reference/index.html) is open-source software for mathematics, science, and engineering"
   ]
  },
  {
   "cell_type": "markdown",
   "id": "56a17fa1",
   "metadata": {
    "slideshow": {
     "slide_type": "slide"
    }
   },
   "source": [
    "### Numpy"
   ]
  },
  {
   "cell_type": "markdown",
   "id": "19543d3c",
   "metadata": {
    "slideshow": {
     "slide_type": "fragment"
    }
   },
   "source": [
    "~~~{.Python}\n",
    "import numpy as np\n",
    "~~~\n",
    "\n",
    "[Numpy](http://www.numpy.org) the fundamental package for scientific computing with Python. It contains among other things:\n",
    "* a powerful N-dimensional array object\n",
    "* sophisticated (broadcasting) functions\n",
    "* tools for integrating C/C++ and Fortran code\n",
    "* useful linear algebra, Fourier transform, and random number capabilities\n",
    "\n",
    "Check out [this tutorial](https://docs.scipy.org/doc/numpy/user/quickstart.html) or [this one](http://cs231n.github.io/python-numpy-tutorial/) (includes also scipy and matplotlib)\n",
    "\n",
    "NumPy does not provide high-level data analysis functionality, having an understanding of NumPy arrays and array-oriented computing will help you use tools like Pandas much more effectively."
   ]
  },
  {
   "cell_type": "markdown",
   "id": "9334fa07",
   "metadata": {
    "slideshow": {
     "slide_type": "slide"
    }
   },
   "source": [
    "### SciPy"
   ]
  },
  {
   "cell_type": "markdown",
   "id": "12f8db2b",
   "metadata": {
    "slideshow": {
     "slide_type": "fragment"
    }
   },
   "source": [
    "[SciPy](https://docs.scipy.org/doc/scipy/reference/index.html) is open-source software for mathematics, science, and engineering\n",
    "\n",
    "The SciPy library depends on NumPy, which provides convenient and fast N-dimensional array manipulation. The SciPy library is built to work with NumPy arrays, and provides many user-friendly and efficient numerical routines , such as routines for numerical integration and optimization."
   ]
  },
  {
   "cell_type": "markdown",
   "id": "6387d2ff",
   "metadata": {
    "slideshow": {
     "slide_type": "slide"
    }
   },
   "source": [
    "### SciPy subpackages (1/2)"
   ]
  },
  {
   "cell_type": "markdown",
   "id": "c93ccb0b",
   "metadata": {
    "slideshow": {
     "slide_type": "fragment"
    }
   },
   "source": [
    "* cluster:\tClustering algorithms\n",
    "* constants: \tPhysical and mathematical constants\n",
    "* fftpack\tFast Fourier Transform routines\n",
    "* integrate\tIntegration and ordinary differential equation solvers\n",
    "* interpolate\tInterpolation and smoothing splines\n",
    "* linalg\tLinear algebra\n",
    "* ndimage\tN-dimensional image processing"
   ]
  },
  {
   "cell_type": "markdown",
   "id": "83107d78",
   "metadata": {
    "slideshow": {
     "slide_type": "slide"
    }
   },
   "source": [
    "### SciPy subpackages (2/2)"
   ]
  },
  {
   "cell_type": "markdown",
   "id": "0ba2ab7c",
   "metadata": {
    "slideshow": {
     "slide_type": "fragment"
    }
   },
   "source": [
    "* odr\tOrthogonal distance regression\n",
    "* optimize\tOptimization and root-finding routines\n",
    "* signal\tSignal processing\n",
    "* sparse\tSparse matrices and associated routines\n",
    "* spatial\tSpatial data structures and algorithms\n",
    "* special\tSpecial functions\n",
    "* stats\tStatistical distributions and functions"
   ]
  },
  {
   "cell_type": "markdown",
   "id": "2a148fcc",
   "metadata": {},
   "source": [
    "~~~{.Python}\n",
    "from scipy import linalg, optimize\n",
    "~~~"
   ]
  },
  {
   "cell_type": "markdown",
   "id": "113c00d2",
   "metadata": {
    "slideshow": {
     "slide_type": "slide"
    }
   },
   "source": [
    "### SciPy"
   ]
  },
  {
   "cell_type": "markdown",
   "id": "a48e3bac",
   "metadata": {
    "slideshow": {
     "slide_type": "fragment"
    }
   },
   "source": [
    "Again, check out the [official tutorials](https://docs.scipy.org/doc/scipy/tutorial/index.html)\n",
    "\n",
    "Some examples:\n",
    "* [Interpolation](https://docs.scipy.org/doc/scipy/reference/interpolate.html)\n",
    "* [Solving linear system, Eigenvalues and eigenvectors](https://docs.scipy.org/doc/scipy/reference/linalg.html)\n",
    "* [Signal processing](https://docs.scipy.org/doc/scipy/reference/signal.html)\n",
    "* [Statistics, random variables, fitting distributions, ..](https://docs.scipy.org/doc/scipy/reference/stats.html)"
   ]
  },
  {
   "cell_type": "markdown",
   "id": "1f4f4500",
   "metadata": {
    "slideshow": {
     "slide_type": "slide"
    }
   },
   "source": [
    "## Plotting"
   ]
  },
  {
   "cell_type": "markdown",
   "id": "f91086ac",
   "metadata": {
    "slideshow": {
     "slide_type": "slide"
    }
   },
   "source": [
    "### Plotting"
   ]
  },
  {
   "cell_type": "markdown",
   "id": "58806de3",
   "metadata": {
    "slideshow": {
     "slide_type": "fragment"
    }
   },
   "source": [
    "There exist many libraries for plotting:\n",
    "* [matplotlib](http://matplotlib.org): Python's most popular and comprehensive plotting library that is especially useful in combination with NumPy/SciPy.\n",
    "* [seaborn](http://web.stanford.edu/~mwaskom/software/seaborn/): extension for matplotlib with enchanced visual styles and additional plots\n",
    "* [qqplot](https://github.com/yhat/ggplot) ( like qqplot2 in R)\n",
    "* [bokeh](http://bokeh.pydata.org): Bokeh is a plottling library for interactive plots typically viewed in Web applications\n",
    "* [folium leaflets](http://python-visualization.github.io/folium/)"
   ]
  },
  {
   "cell_type": "markdown",
   "id": "83afbe66",
   "metadata": {
    "slideshow": {
     "slide_type": "slide"
    }
   },
   "source": [
    "## Machine learning?"
   ]
  },
  {
   "cell_type": "markdown",
   "id": "fad75353",
   "metadata": {
    "slideshow": {
     "slide_type": "slide"
    }
   },
   "source": [
    "### Machine learning"
   ]
  },
  {
   "cell_type": "markdown",
   "id": "be128ecf",
   "metadata": {
    "slideshow": {
     "slide_type": "fragment"
    }
   },
   "source": [
    "* [scikit-learn](http://scikit-learn.org/stable/) builds on NumPy and SciPy, including clustering, regression, and classification, well documented, many tutorials and examplesUsed by data-heavy startups, including Evernote, OKCupid, Spotify, and Birchbox.\n",
    "* [Theano](https://theano-pymc.readthedocs.io/en/latest/) Theano is a Python library that allows you to define, optimize, and evaluate mathematical expressions involving multi-dimensional arrays efficiently. \n",
    "* [TensorFlow](https://www.tensorflow.org) developed by Google, is an open source software library for numerical computation using data flow graphs. It can be used for deep learning scenarios. Check out their [Python API](https://www.tensorflow.org/api_docs/python/)\n",
    "* [Keras](https://keras.io): Keras is a high-level neural networks API, written in Python and capable of running on top of either TensorFlow or Theano. It was developed with a focus on enabling fast experimentation. Being able to go from idea to result with the least possible delay is key to doing good research."
   ]
  },
  {
   "cell_type": "markdown",
   "id": "95664998",
   "metadata": {
    "slideshow": {
     "slide_type": "slide"
    }
   },
   "source": [
    "## Data Mining & NLP"
   ]
  },
  {
   "cell_type": "markdown",
   "id": "d4b19a52",
   "metadata": {
    "slideshow": {
     "slide_type": "slide"
    }
   },
   "source": [
    "### Data Mining & NLP"
   ]
  },
  {
   "cell_type": "markdown",
   "id": "410433b1",
   "metadata": {
    "slideshow": {
     "slide_type": "fragment"
    }
   },
   "source": [
    "* [Scrapy](https://scrapy.org) an open source and collaborative framework for extracting the data you need from websites. In a fast, simple, yet extensible way.\n",
    "* [NLTK](http://www.nltk.org) NLTK is a leading platform for building Python programs to work with human language data. It provides easy-to-use [interfaces to over 50 corpora and lexical resources](http://www.nltk.org/nltk_data/) such as WordNet, along with a suite of text processing libraries for classification, tokenization, stemming, tagging, parsing, and semantic reasoning and wrappers for industrial-strength NLP libraries."
   ]
  },
  {
   "cell_type": "markdown",
   "id": "d1d8a327",
   "metadata": {
    "slideshow": {
     "slide_type": "slide"
    }
   },
   "source": [
    "### References\n",
    "\n",
    "* Chapter 3, Data Science from Scatch\n",
    "* Reingold (2014): \"Basic Techniques for Design and Analysis of Algorithms\", Chapter 4, In: Computing Handbook, CRC Press.\n",
    "* B. Saket, A. Endert and Ç. Demiralp (2019), \"Task-Based Effectiveness of Basic Visualizations,\" in IEEE Transactions on Visualization and Computer Graphics, vol. 25, no. 7, pp. 2505-2512, DOI: 10.1109/TVCG.2018.2829750"
   ]
  }
 ],
 "metadata": {
  "jupytext": {
   "cell_metadata_filter": "all",
   "main_language": "python"
  },
  "kernelspec": {
   "display_name": "Python 3 (ipykernel)",
   "language": "python",
   "name": "python3"
  },
  "language_info": {
   "codemirror_mode": {
    "name": "ipython",
    "version": 3
   },
   "file_extension": ".py",
   "mimetype": "text/x-python",
   "name": "python",
   "nbconvert_exporter": "python",
   "pygments_lexer": "ipython3",
   "version": "3.12.6"
  },
  "rise": {
   "height": "90%",
   "width": "90%"
  }
 },
 "nbformat": 4,
 "nbformat_minor": 5
}
