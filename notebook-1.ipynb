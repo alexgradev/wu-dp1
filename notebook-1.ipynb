{
 "cells": [
  {
   "cell_type": "markdown",
   "id": "3cace580-af19-4164-986a-f67f6ca8224f",
   "metadata": {
    "deletable": false,
    "editable": false,
    "nbgrader": {
     "cell_type": "markdown",
     "checksum": "5304152f2afa7ec92b617dbca9155493",
     "grade": false,
     "grade_id": "cell-bb573ab853beac84",
     "locked": true,
     "schema_version": 3,
     "solution": false,
     "task": false
    }
   },
   "source": [
    "Attention! Before working on this notebook, for the first time, once, open a terminal (`File` > `New` > `Terminal`) and run:\n",
    "```\n",
    "$ pip install pytest\n",
    "```"
   ]
  },
  {
   "cell_type": "code",
   "execution_count": 1,
   "id": "3046b447-2ccb-410b-9649-fd11962012a8",
   "metadata": {
    "deletable": false,
    "editable": false,
    "nbgrader": {
     "cell_type": "code",
     "checksum": "5a47b3e15d31d1a361c786477d554721",
     "grade": false,
     "grade_id": "cell-e7e1a09014bf3044",
     "locked": true,
     "schema_version": 3,
     "solution": false,
     "task": false
    }
   },
   "outputs": [],
   "source": [
    "import pytest"
   ]
  },
  {
   "cell_type": "markdown",
   "id": "2ba84b62-951b-4bbd-a564-38918a8a6153",
   "metadata": {
    "deletable": false,
    "editable": false,
    "nbgrader": {
     "cell_type": "markdown",
     "checksum": "eb6ce9530e9ccaaab3af15fe8796d627",
     "grade": false,
     "grade_id": "cell-737bf1e99af58da2",
     "locked": true,
     "schema_version": 3,
     "solution": false,
     "task": false
    },
    "slideshow": {
     "slide_type": ""
    },
    "tags": []
   },
   "source": [
    "## Assignment 1\n",
    "***\n",
    "Read the assignment tasks description carefully! Start as early as possible, questions 24 hours prior to the deadline may not be answered anymore.\n",
    "\n",
    "Please adhere exactly to the Code of Conduct for every assignment. \n",
    "\n",
    "Do NOT use any libraries for your solutions of the tasks, the usage of Python built-in functions is allowed.\n",
    "\n",
    "Do NOT change the structure of the notebook (e.g. add/remove cells).\n",
    "\n",
    "Remove the raise of any `NotImplementedError` in your code before submission."
   ]
  },
  {
   "cell_type": "code",
   "execution_count": 2,
   "id": "c32b5066-7979-44a0-b8c4-7dec3f0b9e1f",
   "metadata": {
    "slideshow": {
     "slide_type": ""
    },
    "tags": []
   },
   "outputs": [],
   "source": [
    "# Please indicate your student id as a string, w/o the leading 'h'!\n",
    "student_id = \"12118279\""
   ]
  },
  {
   "cell_type": "markdown",
   "id": "ebb374b4-8cb9-4622-99e7-a75285b98a46",
   "metadata": {
    "deletable": false,
    "editable": false,
    "nbgrader": {
     "cell_type": "markdown",
     "checksum": "7585ecc77a7765d842d9f624122c7589",
     "grade": false,
     "grade_id": "cell-45bdc13e5ac6b1fa",
     "locked": true,
     "schema_version": 3,
     "solution": false,
     "task": false
    },
    "slideshow": {
     "slide_type": ""
    },
    "tags": []
   },
   "source": [
    "### Task 1\n",
    "***\n",
    "Implement a function `topBigrams` which returns the 8 most frequent character pairs of adjacent letters in an English text. The function must return a `list` holding the 8 most frequently occurring character pairs in descending order. This function can be used, for example, to optimise the key assignment on a keyboard.\n",
    "\n",
    "Important:\n",
    "* You are meant to work on a particular input text available from the supplemental script `corpus.py`.\n",
    "* `corpus.py`, when loaded, will provide a corpus of 20 candidate texts.\n",
    "* Work on the text in this corpus identified by a computed position. Your position is computed as the integer obtained from your `student_id` (trim any leading zeroes!) modulo `20` (there are 20 candidate texts in `corpus`, hence this divisor).\n",
    "\n",
    "Hints:\n",
    "* The modulo is also known as the residual computation, e.g.: `50 % 10 = 5`.\n",
    "* In a first step, remove any character other than [A-Z, a-z] from the input string for bigram frequency analysis. \n",
    "* When calculating the occurences of character pairs, uppercase letters should be treated the same as lowercase letters.\n",
    "\n",
    "The corpus.py file shall be omitted in the submitted zip-file."
   ]
  },
  {
   "cell_type": "code",
   "execution_count": 3,
   "id": "1a5c0dd9-12a9-4cc9-a809-f4647cfb1e91",
   "metadata": {
    "deletable": false,
    "editable": false,
    "nbgrader": {
     "cell_type": "code",
     "checksum": "23a989ee08d84050282c015eecc8a8e8",
     "grade": false,
     "grade_id": "cell-c0f10f0766ec0ca9",
     "locked": true,
     "schema_version": 3,
     "solution": false,
     "task": false
    },
    "slideshow": {
     "slide_type": ""
    },
    "tags": []
   },
   "outputs": [],
   "source": [
    "# Load the list of English texts into a variable called 'corpus'\n",
    "%run corpus.py"
   ]
  },
  {
   "cell_type": "code",
   "execution_count": 4,
   "id": "2352185c-5eab-4212-a5e6-e3fb003ad8b0",
   "metadata": {
    "deletable": false,
    "nbgrader": {
     "cell_type": "code",
     "checksum": "e2a9280d29180ae7bf73315612ae8411",
     "grade": false,
     "grade_id": "cell-6ffcb3e309af2c5f",
     "locked": false,
     "schema_version": 3,
     "solution": true,
     "task": false
    },
    "slideshow": {
     "slide_type": ""
    },
    "tags": []
   },
   "outputs": [],
   "source": [
    "def topBigrams(text):\n",
    "\n",
    "    filtered_char = []\n",
    "    for c in text:\n",
    "        if c.isalpha():\n",
    "            filtered_char.append(c.lower())\n",
    "    text = \"\".join(filtered_char)\n",
    "      \n",
    "    bigramdict = {}\n",
    "    for i in range(len(text)-1):\n",
    "        bigram = text[i:i+2]\n",
    "        if bigram not in bigramdict:\n",
    "            bigramdict[bigram] = 1\n",
    "        else:\n",
    "            bigramdict[bigram] += 1\n",
    "\n",
    "     \n",
    "    sorted_bigrams= sorted(bigramdict.items(), key=lambda x: x[1], reverse=True)\n",
    "       \n",
    "    return [bg for(bg, count) in sorted_bigrams][:8]"
   ]
  },
  {
   "cell_type": "code",
   "execution_count": 5,
   "id": "dc37a6d0-4d83-4aba-b2dd-0b8c3c03f084",
   "metadata": {
    "deletable": false,
    "editable": false,
    "nbgrader": {
     "cell_type": "code",
     "checksum": "afbf4aae60692d14d7ae5e2fb8a17890",
     "grade": true,
     "grade_id": "cell-9cfa8a491e602ac4",
     "locked": true,
     "points": 1.5,
     "schema_version": 3,
     "solution": false,
     "task": false
    },
    "slideshow": {
     "slide_type": ""
    },
    "tags": []
   },
   "outputs": [],
   "source": [
    "text = corpus[(int(student_id.lstrip(\"h0\")) % len(corpus))][0]\n",
    "assert type(topBigrams(text)) == list\n",
    "assert len(topBigrams(text)) == 8\n",
    "assert topBigrams(\"NotImplementedError\") == ['no', 'ot', 'ti', 'im', 'mp', 'pl', 'le', 'em']"
   ]
  },
  {
   "cell_type": "code",
   "execution_count": 12,
   "id": "c32d08f7-cafd-49c0-9ba7-c39aae1bc5bd",
   "metadata": {
    "deletable": false,
    "editable": false,
    "nbgrader": {
     "cell_type": "code",
     "checksum": "40c367d69b963f4c3fb838b1f93c3a5a",
     "grade": true,
     "grade_id": "cell-01b7d51b034ac858",
     "locked": true,
     "points": 1.5,
     "schema_version": 3,
     "solution": false,
     "task": false
    },
    "slideshow": {
     "slide_type": ""
    },
    "tags": []
   },
   "outputs": [],
   "source": [
    "# Edit this cell or remove it, and you shall perish, meow! 😼⚡️"
   ]
  },
  {
   "attachments": {
    "87f5da28-4cb9-4a06-a24d-36084973e3aa.png": {
     "image/png": "[encoded data removed]"
    }
   },
   "cell_type": "markdown",
   "id": "576bfe82-24c3-4091-a1a1-60debe19e6fc",
   "metadata": {
    "deletable": false,
    "editable": false,
    "nbgrader": {
     "cell_type": "markdown",
     "checksum": "ec6a13a81fc4ef7bb7d96795e128c89f",
     "grade": false,
     "grade_id": "cell-22a109dd230716c9",
     "locked": true,
     "schema_version": 3,
     "solution": false,
     "task": false
    },
    "slideshow": {
     "slide_type": ""
    },
    "tags": []
   },
   "source": [
    "# Task 2\n",
    "***\n",
    "The following program printout was created using the Blockly visual programming environment. Implement a function `compute(n)` that checks whether an integer `n` is a palindrome. Implement a Python program (function) corresponding exactly to the Blockly one.\n",
    "\n",
    "![image.png](attachment:87f5da28-4cb9-4a06-a24d-36084973e3aa.png)\n",
    "\n",
    "Hints:\n",
    "* This Blockly program was also featured in the entry exam.\n",
    "* Mind the importance of precedence of nested terms in Blocky arithmetic expressions.\n",
    "* You need to handle attempts of providing a non-integer value as an input to `compute()`. Return the string `Wrong input type`. Note: Other then that, try to make an exacty translation from the Blockly code to Python code."
   ]
  },
  {
   "cell_type": "code",
   "execution_count": 6,
   "id": "332b8973-6dce-447e-a8d2-18f9cc8d3874",
   "metadata": {
    "deletable": false,
    "nbgrader": {
     "cell_type": "code",
     "checksum": "32ac434a50e7237278e92b5e27678c11",
     "grade": false,
     "grade_id": "cell-79ef09dbd9771439",
     "locked": false,
     "schema_version": 3,
     "solution": true,
     "task": false
    },
    "slideshow": {
     "slide_type": ""
    },
    "tags": []
   },
   "outputs": [],
   "source": [
    "def compute(n):\n",
    "    if not isinstance(n, int):\n",
    "        return \"Wrong input type\"\n",
    "    elif n < 0:\n",
    "        return False\n",
    "    m = 0\n",
    "    o = n\n",
    "    while n > 0:\n",
    "        x = n%10\n",
    "        m = m*10+x\n",
    "        n = n//10\n",
    "    return m == o"
   ]
  },
  {
   "cell_type": "code",
   "execution_count": 7,
   "id": "6c0ec867-e1b6-49f4-b09f-1eb464fcb801",
   "metadata": {
    "deletable": false,
    "editable": false,
    "nbgrader": {
     "cell_type": "code",
     "checksum": "d30ed215f579940d314cb2f0840b4270",
     "grade": true,
     "grade_id": "cell-a3ddecadfda6ac11",
     "locked": true,
     "points": 0.5,
     "schema_version": 3,
     "solution": false,
     "task": false
    },
    "slideshow": {
     "slide_type": ""
    },
    "tags": []
   },
   "outputs": [],
   "source": [
    "assert compute(454)\n",
    "assert type(compute(123123)) == bool\n",
    "assert compute(31213)\n",
    "assert compute(\"three hundred\") == \"Wrong input type\""
   ]
  },
  {
   "cell_type": "code",
   "execution_count": 15,
   "id": "8ace9230-6341-4607-85c1-2b344aef4969",
   "metadata": {
    "deletable": false,
    "editable": false,
    "nbgrader": {
     "cell_type": "code",
     "checksum": "48eee3e5a1ce66ab0471488b55a4d41a",
     "grade": true,
     "grade_id": "cell-0b2e130a65051bdd",
     "locked": true,
     "points": 0.5,
     "schema_version": 3,
     "solution": false,
     "task": false
    },
    "slideshow": {
     "slide_type": ""
    },
    "tags": []
   },
   "outputs": [],
   "source": [
    "# Edit this cell or remove it, and you shall perish, meow! 😼⚡️"
   ]
  },
  {
   "cell_type": "markdown",
   "id": "0e0426ad-fb83-4f96-b483-291a4fd1439c",
   "metadata": {
    "deletable": false,
    "editable": false,
    "nbgrader": {
     "cell_type": "markdown",
     "checksum": "0393b06c3f7d341ab791a633fefb2517",
     "grade": false,
     "grade_id": "cell-931e611dab243e6c",
     "locked": true,
     "schema_version": 3,
     "solution": false,
     "task": false
    },
    "slideshow": {
     "slide_type": ""
    },
    "tags": []
   },
   "source": [
    "## Task 3 ##\n",
    "***\n",
    "You are given a string (containing only characters and whitespaces) to encode according to these rules:\n",
    "\n",
    "- Every letter in the final encoded string must be lower case.\n",
    "- Every space in the string must be replaced by the symbols in the `special` dictionary.\n",
    "- Every 4th character in the string must be a symbol from the `random` list.\n",
    "- Each letter in the original string must be shifted by the number defined in the `shift` variable after being lowercased.\n",
    "\n",
    "To clarify what exactly we want you to do, we will look at this string and apply the rules from above:\n",
    "\"This is an example\" <br>\n",
    "**Step 1: \"this is an example\"** $\\;\\;\\;\\;\\;\\;\\;\\;\\;\\;\\;\\;\\;$  <br>   - Lower case letters <br>\n",
    "**Step 2: \"this?is*an#example**  $\\;\\;\\;\\;\\;\\;\\;\\;\\;\\;\\;\\;\\;\\;$  <br>   - Each whitespace is replaced by the symbols in the `special` dictionary depending on the index. Which means the first occurence of a whitespace should be replaced by the value of the key \"1\" in the dictionary and so on. After all keys have been iterated over, you start from the beginning. <br>\n",
    "**Step 3: \"thi+s?i-s*a=n#eßxam+ple\"** $\\;\\;\\;\\;\\;\\;\\;\\;$ <br> - Every 4th position within the string contains a symbol from the `random` list. The order of the occuring letters is sequential. <br>\n",
    "**Step 4: \"guv+f?v-f*n=a#rßknz+cyr\"** $\\;\\;\\;\\;\\;\\;\\;\\;\\;\\;\\;$-> <br> - The original lowercase ACSCII letters (`a-z`) in the string are shifted by 13 positions. <br>\n",
    "\n",
    "_Notes_:\n",
    "\n",
    "- The symbols in the lists should be used in a circular fashion, i.e. when you reach the last symbol in the list, you start again from the beginning.\n",
    "- Make sure your code works with lists and dictionaries of varying lengths.\n",
    "- Your code should also be able to shift characters to the left, otherwise known as a negative shift value.\n",
    "- The dictionary will always use keys numbered from \"1\" to \"n\" (n being the largest occuring number in the dictionary)."
   ]
  },
  {
   "cell_type": "code",
   "execution_count": 8,
   "id": "2c90c3a7-15ec-4773-81ca-74fa2acd84f6",
   "metadata": {
    "deletable": false,
    "editable": false,
    "nbgrader": {
     "cell_type": "code",
     "checksum": "e2230c723048b53615f8d91d82b19e79",
     "grade": false,
     "grade_id": "cell-627413d5e0bcffa9",
     "locked": true,
     "schema_version": 3,
     "solution": false,
     "task": false
    },
    "slideshow": {
     "slide_type": ""
    },
    "tags": []
   },
   "outputs": [],
   "source": [
    "special = {\"1\":\"?\", \"3\":\"#\", \"4\":\"!\", \"2\":\"*\"}\n",
    "random = [\"+\", \"-\", \"=\", \"ß\"]\n",
    "shift = 13"
   ]
  },
  {
   "cell_type": "code",
   "execution_count": 36,
   "id": "f4cdd450-a977-4869-af39-37fadf569222",
   "metadata": {
    "deletable": false,
    "nbgrader": {
     "cell_type": "code",
     "checksum": "da0cabfdc2d53e136e69c1e2f019196c",
     "grade": false,
     "grade_id": "cell-aa71c56abbedeb91",
     "locked": false,
     "schema_version": 3,
     "solution": true,
     "task": false
    },
    "slideshow": {
     "slide_type": ""
    },
    "tags": []
   },
   "outputs": [],
   "source": [
    "def encode(data, special, random, shift):\n",
    "    data = data.lower()\n",
    "    print(data)\n",
    "    \n",
    "    special_keys = sorted(special.keys(), key=int)\n",
    "    special_i = 0\n",
    "    new_data = []\n",
    "    for s in data:\n",
    "        if s == \" \":\n",
    "            key = special_keys[special_i]\n",
    "            new_data.append(special[key])\n",
    "            special_i = (special_i + 1) % len(special)\n",
    "        else:\n",
    "            new_data.append(s)\n",
    "    data = \"\".join(new_data)\n",
    "    print(data)        \n",
    "    \n",
    "    random_i = 0\n",
    "    new_data = []\n",
    "    for i, r in enumerate(data):\n",
    "        new_data.append(r)\n",
    "        if (i+1) % 3 == 0 and i + 1 <len(data):\n",
    "            new_data.append(random[random_i])\n",
    "            random_i = (random_i + 1) % len(random)\n",
    "    data = \"\".join(new_data)\n",
    "    print(data)   \n",
    "    \n",
    "    new_data = []\n",
    "    for c in data:\n",
    "        if \"a\" <= c <= \"z\":\n",
    "            old_pos = ord(c) - ord(\"a\")\n",
    "            new_pos = (old_pos + shift) % 26\n",
    "            new_data.append(chr(ord(\"a\") + new_pos))\n",
    "        else:\n",
    "            new_data.append(c)\n",
    "    data = \"\".join(new_data)\n",
    "    print(data)\n",
    "    \n",
    "    return data"
   ]
  },
  {
   "cell_type": "code",
   "execution_count": 37,
   "id": "83bbab56-22c0-40cf-895e-00149964288e",
   "metadata": {
    "deletable": false,
    "editable": false,
    "nbgrader": {
     "cell_type": "code",
     "checksum": "296821c88af0a41d61769ede0ef3573a",
     "grade": true,
     "grade_id": "cell-4552188ddcaa5aaa",
     "locked": true,
     "points": 0,
     "schema_version": 3,
     "solution": false,
     "task": false
    },
    "slideshow": {
     "slide_type": ""
    },
    "tags": []
   },
   "outputs": [
    {
     "name": "stdout",
     "output_type": "stream",
     "text": [
      "test\n",
      "test\n",
      "tes+t\n",
      "grf+g\n"
     ]
    }
   ],
   "source": [
    "assert isinstance(encode(\"Test\", special, random, shift), str), \"Test 3.0: Check the output type of your function\""
   ]
  },
  {
   "cell_type": "code",
   "execution_count": 38,
   "id": "cbb713ab-b7e1-4323-a8a1-adbe2e1255c1",
   "metadata": {
    "deletable": false,
    "editable": false,
    "nbgrader": {
     "cell_type": "code",
     "checksum": "46c9ae587a7097c05c1f37082297ae5b",
     "grade": true,
     "grade_id": "cell-6d3fe9f07f6ddc23",
     "locked": true,
     "points": 0.5,
     "schema_version": 3,
     "solution": false,
     "task": false
    }
   },
   "outputs": [
    {
     "name": "stdout",
     "output_type": "stream",
     "text": [
      "i want to go home\n",
      "i?want*to#go!home\n",
      "i?w+ant-*to=#goß!ho+me\n",
      "v?j+nag-*gb=#tbß!ub+zr\n"
     ]
    }
   ],
   "source": [
    "assert encode(\"i want to go home\", special, random, shift) == \"v?j+nag-*gb=#tbß!ub+zr\", \"Test 3.1: Check if you follow the rules presented in the bulletpoints\""
   ]
  },
  {
   "cell_type": "code",
   "execution_count": 39,
   "id": "06fe6e33-a0e8-4e94-9981-e9084d558435",
   "metadata": {
    "deletable": false,
    "editable": false,
    "nbgrader": {
     "cell_type": "code",
     "checksum": "328fdb4b5f5ad6881e53035ca499c2ff",
     "grade": true,
     "grade_id": "cell-7ca1072235bdd3e7",
     "locked": true,
     "points": 0.5,
     "schema_version": 3,
     "solution": false,
     "task": false
    },
    "slideshow": {
     "slide_type": ""
    },
    "tags": []
   },
   "outputs": [
    {
     "name": "stdout",
     "output_type": "stream",
     "text": [
      "this task is giving me depression\n",
      "this?task*is#giving!me?depression\n",
      "thi+s?t-ask=*isß#gi+vin-g!m=e?dßepr+ess-ion\n",
      "guv+f?g-nfx=*vfß#tv+iva-t!z=r?qßrce+rff-vba\n"
     ]
    }
   ],
   "source": [
    "assert encode(\"this task is giving me depression\", special, random, shift) == \"guv+f?g-nfx=*vfß#tv+iva-t!z=r?qßrce+rff-vba\", \"Test 3.1: Check if you follow the rules presented in the bulletpoints\" "
   ]
  },
  {
   "cell_type": "code",
   "execution_count": 26,
   "id": "84d618b7-6641-4e60-aa22-b822f173b1fb",
   "metadata": {
    "deletable": false,
    "editable": false,
    "nbgrader": {
     "cell_type": "code",
     "checksum": "1004f5112594cad7258393edccb28e22",
     "grade": true,
     "grade_id": "cell-0be586e30399564b",
     "locked": true,
     "points": 2,
     "schema_version": 3,
     "solution": false,
     "task": false
    },
    "slideshow": {
     "slide_type": ""
    },
    "tags": []
   },
   "outputs": [],
   "source": [
    "# Edit this cell or remove it, and you shall perish, meow! 😼⚡️"
   ]
  },
  {
   "cell_type": "markdown",
   "id": "87746cb8-1384-4e5d-bd61-6d499a2ef7de",
   "metadata": {
    "deletable": false,
    "editable": false,
    "nbgrader": {
     "cell_type": "markdown",
     "checksum": "4adf56b47eabe2d4d0f85cec404642c6",
     "grade": false,
     "grade_id": "cell-bbc41d700ccc96a1",
     "locked": true,
     "schema_version": 3,
     "solution": false,
     "task": false
    },
    "slideshow": {
     "slide_type": ""
    },
    "tags": []
   },
   "source": [
    "### Task 4\n",
    "***\n",
    "Implement a function `stringify`, which takes a dictionary as input and returns the dictionary content as a formatted string. Your function is supposed to take the values from each key within the dictionary and extract the values based on the following rules:\n",
    "\n",
    "1. If the input is not a dictionary, return the error \"Wrong input type\"\n",
    "2. If the value is a string or numeric value, add that value to the string with the delimiter `|` at the start and the end of that value. (e.g., `hello` becomes `|hello|`)\n",
    "3. If the value is a dictionary, add the character `€` to the string signaling the dictionary start and another `€` to denote the end. (`{\"hello\": \"world\"}` becomes `€|world|€`)\n",
    "4. For every list encountered, add `<` to denote the start and an `>` to denote the end of list.\n",
    "5. Make sure you also apply rule 4 for any nested lists.\n",
    "\n",
    "As an example, the following nested list should be converted as such:\n",
    "\n",
    "`[[\"hello\"]\"hi\"]` becomes   `<<|hello|>|hi|>`\n",
    "\n",
    "\n",
    "Hints:\n",
    "\n",
    "* Use recursion when implementing `stringify` for nested structures (list of dicts, or list of lists)\n",
    "* Watch closely the assertions below to better understand the requirements of this task.\n",
    "* Make sure to cover important corner cases, such as empty strings and empty lists.\n",
    "* Make sure to properly handle dictionaries as dictionary values and list elements."
   ]
  },
  {
   "cell_type": "code",
   "execution_count": 13,
   "id": "c3ee9d4f-07d0-475c-a80a-86df4f553fe0",
   "metadata": {
    "deletable": false,
    "nbgrader": {
     "cell_type": "code",
     "checksum": "c6fe185634d5d4bbb9e339a3f09ac9ff",
     "grade": false,
     "grade_id": "cell-9743be89253e0b83",
     "locked": false,
     "schema_version": 3,
     "solution": true,
     "task": false
    },
    "slideshow": {
     "slide_type": ""
    },
    "tags": []
   },
   "outputs": [],
   "source": [
    "def stringify(dictionary):\n",
    "    if not isinstance(dictionary, dict):\n",
    "        return \"Wrong input type\"\n",
    "    \n",
    "    def stringify_value(value):\n",
    "        values = \"\"\n",
    "        if isinstance(value, (str, int, float)):\n",
    "            return f'|{value}|' \n",
    "        elif isinstance(value, dict):\n",
    "            for v in value.values():\n",
    "                values += stringify_value(v)\n",
    "            return f'€{values}€'\n",
    "        elif isinstance(value, list):\n",
    "            for v in value:\n",
    "                values += stringify_value(v)\n",
    "            return f'<{values}>'\n",
    "        return values\n",
    "    \n",
    "    values = \"\"\n",
    "    for v in dictionary.values():\n",
    "        values += stringify_value(v)\n",
    "    return f'€{values}€'"
   ]
  },
  {
   "cell_type": "code",
   "execution_count": 14,
   "id": "151ead09-987b-4057-88c6-6e19df3b075e",
   "metadata": {
    "deletable": false,
    "editable": false,
    "nbgrader": {
     "cell_type": "code",
     "checksum": "fb5a308218b8252e7f843331f61edd7a",
     "grade": true,
     "grade_id": "cell-6f749de678b02561",
     "locked": true,
     "points": 1,
     "schema_version": 3,
     "solution": false,
     "task": false
    },
    "slideshow": {
     "slide_type": ""
    },
    "tags": []
   },
   "outputs": [],
   "source": [
    "assert stringify({\"one\": \"data\"}) == '€|data|€'\n",
    "assert stringify({\"one\": [\"cooldata\"]}) == '€<|cooldata|>€'\n",
    "assert stringify({\"one\": [\"reallycooldata\"], \"two\": \"evencoolerdata\"}) == '€<|reallycooldata|>|evencoolerdata|€'\n",
    "assert stringify({\"one\": [[\"right\"],\"left\"]}) == '€<<|right|>|left|>€'\n",
    "assert stringify({\"one\": [\"recursion\",[\"or\"],[\"no\",[\"recursion\"]]]}) == '€<|recursion|<|or|><|no|<|recursion|>>>€'\n",
    "assert stringify({\"one\": {\"two\": \"this is my kindgom come\"}}) == '€€|this is my kindgom come|€€'"
   ]
  },
  {
   "cell_type": "code",
   "execution_count": 24,
   "id": "432b0c9e-ee24-4aa9-9f19-804028950b41",
   "metadata": {
    "deletable": false,
    "editable": false,
    "nbgrader": {
     "cell_type": "code",
     "checksum": "98d0410a0101fa8eb65a6caa3a6c71e1",
     "grade": true,
     "grade_id": "cell-0af47921f77c64a4",
     "locked": true,
     "points": 2,
     "schema_version": 3,
     "solution": false,
     "task": false
    },
    "slideshow": {
     "slide_type": ""
    },
    "tags": []
   },
   "outputs": [],
   "source": [
    "# Edit this cell or remove it, and you shall perish, meow! 😼⚡️"
   ]
  },
  {
   "cell_type": "markdown",
   "id": "c580c445-d714-43f5-998d-aa3069468eee",
   "metadata": {
    "deletable": false,
    "editable": false,
    "nbgrader": {
     "cell_type": "markdown",
     "checksum": "2ec01da56ecfcd586ea84dad38005e88",
     "grade": false,
     "grade_id": "cell-5c9adf3e60d7c89b",
     "locked": true,
     "schema_version": 3,
     "solution": false,
     "task": false
    },
    "slideshow": {
     "slide_type": ""
    },
    "tags": []
   },
   "source": [
    "### Task 5\n",
    "Implement a function `encrypt`, which takes an input string, an identifying character, and an integer value defining the shift key. Your function `encrypt` shifts (either towards left or right) the letters of the alphabet (`A` to `Z`, `a` to `z`).\n",
    "\n",
    "Important:\n",
    "* Only encode words which contain a given identifying character in the input string.\n",
    "* If the identifying character is NOT part of the character range `[a-z]`, encode the word and delete the identifying character.\n",
    "* Left shifting is indicated by a shift key carrying a minus sign (`-`), otherwise a right shift is performed.\n",
    "* Characters outside the range of `[a-z]`, incl. numbers and punctuation characters, are always subjected to a left shift of `0`.\n",
    "\n",
    "For instance, for a right shift of 3 and the identifier `#`, the input string `'syntax error# in line 90'` is encrypted into `'syntax huuru in line 90'`\n",
    "\n",
    "Hints:\n",
    "* Initially, transform any uppercase character to their lowercase equivalent.\n",
    "* Any right/left shifts are only ought the be applied to characters of the character range `[a-z]`."
   ]
  },
  {
   "cell_type": "code",
   "execution_count": 15,
   "id": "6d6cf2b5-078f-48f5-89ed-8d0900a4e026",
   "metadata": {
    "deletable": false,
    "nbgrader": {
     "cell_type": "code",
     "checksum": "0b96f35ab6d355a9b645fa3e633df99b",
     "grade": false,
     "grade_id": "cell-9f507eb8eb1a5fae",
     "locked": false,
     "schema_version": 3,
     "solution": true,
     "task": false
    },
    "slideshow": {
     "slide_type": ""
    },
    "tags": []
   },
   "outputs": [],
   "source": [
    "def encrypt(text, identifier, shift_val):\n",
    "    splited_text = text.split(\" \") \n",
    "    encrypted_text = []\n",
    "    char_map = {'Ü': 'ü'}\n",
    "\n",
    "    for t in splited_text:\n",
    "        if identifier in t:\n",
    "            stripped_text = t.replace(identifier, \"\") \n",
    "            if not stripped_text:\n",
    "                encrypted_text.append(\"\")\n",
    "                continue\n",
    "\n",
    "            shifted_chars = []\n",
    "            for c in stripped_text:\n",
    "                if c in char_map:\n",
    "                    c = char_map[c]\n",
    "                if 'a' <= c.lower() <= 'z':  \n",
    "                    shifted_char = chr((ord(c.lower()) - ord('a') + shift_val) % 26 + ord('a'))\n",
    "                    shifted_chars.append(shifted_char)\n",
    "                else:\n",
    "                    shifted_chars.append(c)\n",
    "            encrypted_text.append(\"\".join(shifted_chars))\n",
    "        else:\n",
    "            encrypted_text.append(t)\n",
    "    \n",
    "    return \" \".join(encrypted_text)"
   ]
  },
  {
   "cell_type": "code",
   "execution_count": 16,
   "id": "e37d8ca6-474b-485a-9c66-7e0f53fae472",
   "metadata": {
    "deletable": false,
    "editable": false,
    "nbgrader": {
     "cell_type": "code",
     "checksum": "2db29cb3bfecb0a2d584cc9bd389c32c",
     "grade": true,
     "grade_id": "cell-f86219aaac7d55e1",
     "locked": true,
     "points": 1,
     "schema_version": 3,
     "solution": false,
     "task": false
    },
    "slideshow": {
     "slide_type": ""
    },
    "tags": []
   },
   "outputs": [],
   "source": [
    "assert type(encrypt(\"Yes, I will adhere to the Code of Conduct\", \"o\", 5)) == str\n",
    "assert len(encrypt(\"Th#is is a very secu#re message\", \"#\", 8)) == 29\n",
    "assert encrypt(\"Plea?se ?交? your HAUSÜ?BUNG on time.\", \"?\", 7) == 'wslhzl 交 your ohbzüibun on time.'\n",
    "assert encrypt('syntax error# in line 90', '#', 3) == 'syntax huuru in line 90'\n",
    "assert encrypt(' ', '#', 3) == ' '\n",
    "assert encrypt(' #', '#', 3) == ' '\n",
    "assert encrypt('', '', 3) == ''\n",
    "assert encrypt(' ', '', 3) == ' '\n",
    "assert encrypt(student_id + \"#\", '#', 3) == student_id"
   ]
  },
  {
   "cell_type": "code",
   "execution_count": null,
   "id": "89d47ad6-f3fb-4fe6-9af3-6f55e9da886e",
   "metadata": {
    "deletable": false,
    "editable": false,
    "nbgrader": {
     "cell_type": "code",
     "checksum": "b0795f6945a4f90b83dc926751b93ba2",
     "grade": true,
     "grade_id": "cell-cf1cbac61c3dd39d",
     "locked": true,
     "points": 1,
     "schema_version": 3,
     "solution": false,
     "task": false
    },
    "slideshow": {
     "slide_type": ""
    },
    "tags": []
   },
   "outputs": [],
   "source": [
    "# Edit this cell or remove it, and you shall perish, meow! 😼⚡️"
   ]
  }
 ],
 "metadata": {
  "kernelspec": {
   "display_name": "Python 3 (ipykernel)",
   "language": "python",
   "name": "python3"
  },
  "language_info": {
   "codemirror_mode": {
    "name": "ipython",
    "version": 3
   },
   "file_extension": ".py",
   "mimetype": "text/x-python",
   "name": "python",
   "nbconvert_exporter": "python",
   "pygments_lexer": "ipython3",
   "version": "3.10.8"
  }
 },
 "nbformat": 4,
 "nbformat_minor": 5
}
